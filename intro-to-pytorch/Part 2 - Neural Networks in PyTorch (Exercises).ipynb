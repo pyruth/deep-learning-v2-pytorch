{
 "cells": [
  {
   "cell_type": "markdown",
   "metadata": {},
   "source": [
    "# Neural networks with PyTorch\n",
    "\n",
    "Deep learning networks tend to be massive with dozens or hundreds of layers, that's where the term \"deep\" comes from. You can build one of these deep networks using only weight matrices as we did in the previous notebook, but in general it's very cumbersome and difficult to implement. PyTorch has a nice module `nn` that provides a nice way to efficiently build large neural networks."
   ]
  },
  {
   "cell_type": "code",
   "execution_count": 58,
   "metadata": {},
   "outputs": [],
   "source": [
    "# Import necessary packages\n",
    "\n",
    "%matplotlib inline\n",
    "%config InlineBackend.figure_format = 'retina'\n",
    "\n",
    "import numpy as np\n",
    "import torch\n",
    "\n",
    "import helper\n",
    "\n",
    "import matplotlib.pyplot as plt"
   ]
  },
  {
   "cell_type": "markdown",
   "metadata": {},
   "source": [
    "\n",
    "Now we're going to build a larger network that can solve a (formerly) difficult problem, identifying text in an image. Here we'll use the MNIST dataset which consists of greyscale handwritten digits. Each image is 28x28 pixels, you can see a sample below\n",
    "\n",
    "<img src='assets/mnist.png'>\n",
    "\n",
    "Our goal is to build a neural network that can take one of these images and predict the digit in the image.\n",
    "\n",
    "First up, we need to get our dataset. This is provided through the `torchvision` package. The code below will download the MNIST dataset, then create training and test datasets for us. Don't worry too much about the details here, you'll learn more about this later."
   ]
  },
  {
   "cell_type": "code",
   "execution_count": 59,
   "metadata": {},
   "outputs": [],
   "source": [
    "# The MNIST datasets are hosted on yann.lecun.com that has moved under CloudFlare protection\n",
    "# Run this script to enable the datasets download\n",
    "# Reference: https://github.com/pytorch/vision/issues/1938\n",
    "\n",
    "from six.moves import urllib\n",
    "opener = urllib.request.build_opener()\n",
    "opener.addheaders = [('User-agent', 'Mozilla/5.0')]\n",
    "urllib.request.install_opener(opener)"
   ]
  },
  {
   "cell_type": "code",
   "execution_count": 60,
   "metadata": {},
   "outputs": [],
   "source": [
    "### Run this cell\n",
    "\n",
    "from torchvision import datasets, transforms\n",
    "\n",
    "# Define a transform to normalize the data\n",
    "transform = transforms.Compose([transforms.ToTensor(),\n",
    "                              transforms.Normalize((0.5,), (0.5,)),\n",
    "                              ])\n",
    "\n",
    "# Download and load the training data\n",
    "trainset = datasets.MNIST('~/.pytorch/MNIST_data/', download=True, train=True, transform=transform)\n",
    "trainloader = torch.utils.data.DataLoader(trainset, batch_size=64, shuffle=True)"
   ]
  },
  {
   "cell_type": "markdown",
   "metadata": {},
   "source": [
    "We have the training data loaded into `trainloader` and we make that an iterator with `iter(trainloader)`. Later, we'll use this to loop through the dataset for training, like\n",
    "\n",
    "```python\n",
    "for image, label in trainloader:\n",
    "    ## do things with images and labels\n",
    "```\n",
    "\n",
    "You'll notice I created the `trainloader` with a batch size of 64, and `shuffle=True`. The batch size is the number of images we get in one iteration from the data loader and pass through our network, often called a *batch*. And `shuffle=True` tells it to shuffle the dataset every time we start going through the data loader again. But here I'm just grabbing the first batch so we can check out the data. We can see below that `images` is just a tensor with size `(64, 1, 28, 28)`. So, 64 images per batch, 1 color channel, and 28x28 images."
   ]
  },
  {
   "cell_type": "code",
   "execution_count": 61,
   "metadata": {},
   "outputs": [
    {
     "name": "stdout",
     "output_type": "stream",
     "text": [
      "<class 'torch.Tensor'>\n",
      "torch.Size([64, 1, 28, 28])\n",
      "torch.Size([64])\n"
     ]
    }
   ],
   "source": [
    "dataiter = iter(trainloader)\n",
    "images, labels = next(dataiter)\n",
    "print(type(images))\n",
    "print(images.shape)\n",
    "print(labels.shape)"
   ]
  },
  {
   "cell_type": "markdown",
   "metadata": {},
   "source": [
    "This is what one of the images looks like. "
   ]
  },
  {
   "cell_type": "code",
   "execution_count": 62,
   "metadata": {},
   "outputs": [
    {
     "data": {
      "image/png": "[encoded data removed]",
      "text/plain": [
       "<Figure size 640x480 with 1 Axes>"
      ]
     },
     "metadata": {
      "image/png": {
       "height": 413,
       "width": 416
      }
     },
     "output_type": "display_data"
    }
   ],
   "source": [
    "plt.imshow(images[1].numpy().squeeze(), cmap='Greys_r');"
   ]
  },
  {
   "cell_type": "markdown",
   "metadata": {},
   "source": [
    "First, let's try to build a simple network for this dataset using weight matrices and matrix multiplications. Then, we'll see how to do it using PyTorch's `nn` module which provides a much more convenient and powerful method for defining network architectures.\n",
    "\n",
    "The networks you've seen so far are called *fully-connected* or *dense* networks. Each unit in one layer is connected to each unit in the next layer. In fully-connected networks, the input to each layer must be a one-dimensional vector (which can be stacked into a 2D tensor as a batch of multiple examples). However, our images are 28x28 2D tensors, so we need to convert them into 1D vectors. Thinking about sizes, we need to convert the batch of images with shape `(64, 1, 28, 28)` to a have a shape of `(64, 784)`, 784 is 28 times 28. This is typically called *flattening*, we flattened the 2D images into 1D vectors.\n",
    "\n",
    "Previously you built a network with one output unit. Here we need 10 output units, one for each digit. We want our network to predict the digit shown in an image, so what we'll do is calculate probabilities that the image is of any one digit or class. This ends up being a discrete probability distribution over the classes (digits) that tells us the most likely class for the image. That means we need 10 output units for the 10 classes (digits). We'll see how to convert the network output into a probability distribution next.\n",
    "\n",
    "> **Exercise:** Flatten the batch of images `images`. Then build a multi-layer network with 784 input units, 256 hidden units, and 10 output units using random tensors for the weights and biases. For now, use a sigmoid activation for the hidden layer. Leave the output layer without an activation, we'll add one that gives us a probability distribution next."
   ]
  },
  {
   "cell_type": "code",
   "execution_count": 63,
   "metadata": {},
   "outputs": [
    {
     "name": "stdout",
     "output_type": "stream",
     "text": [
      "tensor([[7.7249e-03, 1.0000e+00, 6.8662e-01, 4.4533e-04, 1.0997e-05, 9.7544e-09,\n",
      "         5.3797e-03, 9.9999e-01, 5.3853e-01, 9.9321e-01],\n",
      "        [1.2188e-05, 1.0000e+00, 1.7949e-01, 9.7022e-01, 6.9746e-07, 8.1749e-10,\n",
      "         9.5985e-04, 1.0000e+00, 5.2712e-01, 1.4823e-01],\n",
      "        [3.1223e-02, 9.4881e-01, 9.9783e-01, 9.6104e-01, 1.1748e-02, 3.9215e-03,\n",
      "         6.8666e-05, 5.7290e-01, 9.9856e-01, 5.3070e-01],\n",
      "        [4.0546e-03, 9.9993e-01, 2.6190e-02, 3.7532e-01, 9.2235e-01, 1.0518e-06,\n",
      "         1.0000e+00, 9.9999e-01, 9.5536e-01, 9.9953e-01],\n",
      "        [7.2215e-01, 1.0000e+00, 6.8077e-04, 8.4987e-01, 2.3550e-06, 3.0527e-08,\n",
      "         5.1861e-04, 9.9951e-01, 9.0666e-01, 1.6903e-01],\n",
      "        [3.0380e-03, 9.9991e-01, 2.5410e-01, 1.0593e-01, 1.2547e-08, 1.5313e-07,\n",
      "         1.3715e-04, 1.0000e+00, 8.7928e-01, 3.4317e-01],\n",
      "        [7.1431e-01, 7.1526e-01, 4.9756e-06, 9.9633e-01, 9.9524e-01, 1.6559e-06,\n",
      "         3.3427e-03, 8.0326e-01, 9.1492e-01, 8.9798e-01],\n",
      "        [9.0044e-01, 9.9983e-01, 9.8103e-01, 1.3630e-01, 9.0413e-09, 5.9907e-10,\n",
      "         1.3238e-05, 1.0000e+00, 9.3756e-01, 9.6147e-01],\n",
      "        [2.9633e-04, 9.9999e-01, 1.7715e-06, 9.9769e-01, 1.0904e-01, 6.4204e-08,\n",
      "         9.9606e-01, 9.9998e-01, 9.9996e-01, 2.0918e-04],\n",
      "        [1.6224e-05, 9.4610e-01, 2.8013e-01, 9.9940e-01, 5.7756e-06, 3.3000e-08,\n",
      "         2.5128e-03, 9.9999e-01, 6.1304e-01, 9.9656e-01],\n",
      "        [6.6544e-04, 9.9574e-01, 9.9981e-01, 8.8612e-01, 7.4340e-06, 9.5128e-08,\n",
      "         8.6436e-01, 9.9998e-01, 2.2477e-01, 9.9857e-01],\n",
      "        [3.9611e-08, 1.0000e+00, 3.9385e-02, 9.9995e-01, 1.1082e-06, 1.5440e-08,\n",
      "         2.1007e-02, 9.4081e-01, 1.0000e+00, 2.8889e-01],\n",
      "        [8.9829e-02, 1.0000e+00, 4.8303e-03, 2.9266e-02, 5.2637e-08, 2.8711e-05,\n",
      "         2.1855e-03, 1.0000e+00, 9.8580e-01, 9.9906e-01],\n",
      "        [5.5172e-02, 2.6418e-01, 1.7169e-01, 2.3170e-01, 2.5229e-01, 1.8886e-07,\n",
      "         3.2328e-03, 9.8869e-01, 9.7656e-01, 9.1689e-01],\n",
      "        [7.4365e-01, 9.9997e-01, 2.2909e-02, 6.9844e-01, 6.4457e-01, 3.0819e-05,\n",
      "         3.9836e-01, 9.9984e-01, 1.0000e+00, 9.0782e-01],\n",
      "        [2.1728e-06, 9.9106e-01, 5.7892e-01, 9.9988e-01, 7.3073e-02, 1.6380e-04,\n",
      "         1.9677e-06, 1.0000e+00, 9.6825e-01, 5.9134e-01],\n",
      "        [2.3857e-02, 9.9998e-01, 6.6151e-04, 3.8034e-01, 1.2959e-04, 6.5435e-09,\n",
      "         9.5627e-05, 9.9984e-01, 9.9595e-01, 9.3796e-01],\n",
      "        [9.2683e-01, 9.9998e-01, 5.6580e-02, 9.9996e-01, 1.8464e-02, 3.8894e-03,\n",
      "         9.9961e-01, 4.6013e-01, 9.9999e-01, 1.1531e-01],\n",
      "        [1.4132e-06, 1.0000e+00, 1.0787e-02, 9.9123e-01, 1.5589e-03, 2.8565e-07,\n",
      "         2.4726e-01, 1.0000e+00, 9.9997e-01, 9.8911e-01],\n",
      "        [1.6180e-02, 9.6969e-01, 4.0534e-01, 1.0000e+00, 2.0533e-03, 1.2721e-06,\n",
      "         2.0158e-03, 8.5786e-01, 9.9783e-01, 2.2988e-01],\n",
      "        [4.3309e-01, 9.9964e-01, 7.2104e-02, 8.6760e-01, 8.7708e-08, 8.3843e-10,\n",
      "         1.1278e-03, 1.0000e+00, 9.9946e-01, 7.9540e-01],\n",
      "        [9.9977e-01, 9.9994e-01, 4.6607e-04, 9.9981e-01, 5.1032e-03, 3.5139e-07,\n",
      "         2.8681e-08, 9.9969e-01, 9.9489e-01, 9.9758e-01],\n",
      "        [1.7964e-04, 1.0000e+00, 9.8616e-01, 3.4511e-01, 2.4185e-05, 3.9921e-07,\n",
      "         2.4313e-02, 9.3926e-01, 9.9154e-01, 9.9998e-01],\n",
      "        [3.8389e-04, 1.0000e+00, 7.3237e-01, 8.3839e-03, 8.1089e-03, 4.8708e-05,\n",
      "         7.0127e-03, 6.6172e-01, 1.0000e+00, 9.8280e-01],\n",
      "        [7.0408e-01, 9.9999e-01, 7.9593e-04, 9.3390e-03, 9.9024e-01, 5.3678e-05,\n",
      "         2.8388e-02, 9.6383e-01, 7.7890e-01, 9.2124e-01],\n",
      "        [8.9591e-05, 1.0000e+00, 3.4203e-02, 4.3474e-01, 2.0530e-08, 1.5390e-04,\n",
      "         2.7037e-02, 1.0000e+00, 9.9999e-01, 9.2962e-01],\n",
      "        [9.9704e-01, 9.0816e-01, 6.3002e-03, 9.9968e-01, 9.2440e-01, 1.3136e-07,\n",
      "         2.2451e-10, 9.9999e-01, 9.9893e-01, 2.3390e-02],\n",
      "        [1.3848e-01, 9.9987e-01, 3.4847e-04, 5.7764e-01, 8.5202e-01, 1.6160e-06,\n",
      "         2.2746e-03, 2.9516e-01, 9.9873e-01, 9.9470e-01],\n",
      "        [6.8648e-01, 9.9219e-01, 1.0526e-01, 9.9245e-01, 2.9101e-03, 3.5787e-07,\n",
      "         5.1081e-01, 9.9451e-01, 2.1271e-02, 9.5911e-01],\n",
      "        [6.9706e-01, 9.5295e-01, 7.8092e-03, 9.8109e-01, 9.2571e-04, 1.6676e-09,\n",
      "         2.6639e-04, 1.0000e+00, 9.9993e-01, 9.9999e-01],\n",
      "        [9.7813e-01, 9.9612e-01, 8.8345e-01, 8.4695e-01, 6.8522e-01, 2.6449e-07,\n",
      "         1.9224e-03, 1.0000e+00, 9.5324e-01, 9.9925e-01],\n",
      "        [7.4879e-01, 9.9996e-01, 4.0220e-05, 8.6561e-01, 6.7617e-05, 2.1879e-07,\n",
      "         1.6640e-03, 1.0000e+00, 9.6537e-01, 8.2943e-01],\n",
      "        [9.4746e-01, 1.0000e+00, 4.7889e-03, 9.8817e-01, 1.1566e-02, 3.1476e-07,\n",
      "         8.6127e-01, 9.9994e-01, 8.7025e-01, 6.4640e-01],\n",
      "        [1.6337e-02, 9.9999e-01, 6.8854e-01, 7.9272e-01, 1.4836e-06, 2.0840e-08,\n",
      "         3.9732e-05, 1.0000e+00, 3.6604e-02, 9.3012e-01],\n",
      "        [2.7903e-05, 9.7910e-01, 9.7741e-01, 3.2712e-01, 9.9284e-01, 4.1405e-09,\n",
      "         1.2500e-03, 4.1695e-01, 9.9996e-01, 4.4307e-01],\n",
      "        [9.9176e-01, 1.0000e+00, 1.0493e-03, 9.9648e-01, 7.2692e-02, 3.8138e-11,\n",
      "         9.0426e-04, 9.9997e-01, 9.2656e-01, 7.0163e-01],\n",
      "        [1.8778e-01, 9.9999e-01, 4.2400e-01, 9.8685e-01, 8.1507e-01, 8.5715e-06,\n",
      "         1.6651e-01, 9.9999e-01, 9.8773e-01, 9.9782e-01],\n",
      "        [9.6288e-04, 9.9958e-01, 3.2135e-01, 6.3917e-01, 2.8128e-01, 7.8920e-06,\n",
      "         3.6542e-02, 9.4150e-01, 9.9982e-01, 9.8825e-01],\n",
      "        [8.4341e-05, 9.9692e-01, 2.1547e-04, 4.0222e-01, 2.6173e-02, 4.8146e-11,\n",
      "         3.4139e-02, 9.9995e-01, 6.9935e-01, 9.6995e-01],\n",
      "        [8.6525e-01, 9.9987e-01, 3.0373e-01, 7.9395e-01, 1.0127e-04, 1.6715e-08,\n",
      "         2.9768e-04, 9.9994e-01, 9.9914e-01, 9.8841e-01],\n",
      "        [9.7641e-01, 9.9954e-01, 1.3200e-03, 1.7414e-02, 4.3492e-03, 3.9527e-11,\n",
      "         5.7508e-07, 1.0000e+00, 9.9761e-01, 9.9979e-01],\n",
      "        [4.3126e-04, 9.9868e-01, 9.9728e-01, 9.9445e-01, 3.4731e-01, 5.7271e-08,\n",
      "         7.2042e-04, 9.9968e-01, 2.5961e-01, 9.9966e-01],\n",
      "        [1.5856e-02, 8.4461e-01, 9.9786e-01, 9.8323e-01, 1.0457e-01, 1.0959e-07,\n",
      "         5.6489e-08, 9.9958e-01, 9.7704e-01, 8.5231e-01],\n",
      "        [5.3821e-01, 9.9924e-01, 4.1129e-04, 9.9640e-01, 9.2942e-01, 8.1953e-11,\n",
      "         1.7956e-02, 9.9741e-01, 9.9734e-01, 2.9741e-04],\n",
      "        [1.1869e-06, 9.9998e-01, 9.4969e-01, 2.1758e-01, 3.4356e-09, 4.9038e-09,\n",
      "         7.0052e-02, 1.0000e+00, 9.9541e-01, 9.6719e-01],\n",
      "        [2.8803e-03, 1.0000e+00, 1.3997e-01, 8.8871e-01, 9.6659e-01, 1.4688e-07,\n",
      "         9.5148e-06, 1.0000e+00, 9.9933e-01, 8.9877e-01],\n",
      "        [1.2168e-04, 1.0000e+00, 2.2150e-02, 9.9991e-01, 8.7972e-01, 3.3735e-08,\n",
      "         6.5895e-02, 9.9919e-01, 6.6548e-01, 2.5773e-01],\n",
      "        [8.7932e-03, 9.9877e-01, 5.0206e-06, 9.8933e-01, 5.7198e-05, 3.0681e-07,\n",
      "         9.9322e-01, 1.0000e+00, 9.9720e-01, 9.7088e-01],\n",
      "        [6.1455e-03, 9.9138e-01, 1.6477e-01, 3.0119e-03, 2.7234e-04, 5.2901e-05,\n",
      "         5.1941e-03, 1.0000e+00, 1.7036e-02, 8.3129e-01],\n",
      "        [1.0399e-02, 1.0000e+00, 2.2284e-04, 9.9941e-01, 1.7198e-07, 3.8945e-08,\n",
      "         3.0165e-02, 1.0000e+00, 9.9739e-01, 8.8566e-01],\n",
      "        [9.8518e-01, 8.5084e-01, 4.6383e-01, 9.9022e-01, 5.8616e-03, 9.9269e-09,\n",
      "         3.6324e-03, 1.0000e+00, 9.9441e-01, 9.9769e-01],\n",
      "        [9.9921e-01, 9.9998e-01, 2.7637e-05, 9.3271e-01, 1.3608e-03, 3.6294e-09,\n",
      "         1.3878e-05, 9.9982e-01, 9.9996e-01, 9.9985e-01],\n",
      "        [2.5843e-04, 9.9996e-01, 2.5430e-02, 9.9821e-01, 4.7773e-03, 2.0284e-05,\n",
      "         4.1252e-03, 1.0000e+00, 9.8108e-01, 3.1745e-02],\n",
      "        [9.9847e-01, 1.0000e+00, 9.2221e-01, 9.9904e-01, 3.1610e-04, 3.6083e-06,\n",
      "         3.8670e-03, 9.9997e-01, 9.9644e-01, 1.0000e+00],\n",
      "        [9.8737e-01, 9.9580e-01, 9.8637e-01, 9.9986e-01, 9.9977e-01, 6.1181e-04,\n",
      "         9.4878e-05, 9.9567e-01, 6.3782e-01, 9.5461e-01],\n",
      "        [1.2535e-01, 9.9997e-01, 9.9989e-01, 9.1000e-01, 9.6981e-02, 2.4874e-08,\n",
      "         8.4570e-01, 6.8562e-01, 9.9998e-01, 9.9990e-01],\n",
      "        [9.7040e-01, 9.9999e-01, 1.8098e-02, 8.6303e-01, 2.1597e-01, 1.8934e-08,\n",
      "         5.8617e-02, 1.0000e+00, 3.1064e-01, 8.9711e-01],\n",
      "        [9.7150e-01, 9.7368e-01, 2.0083e-02, 2.6445e-03, 3.2825e-03, 9.8994e-11,\n",
      "         3.4783e-04, 9.9998e-01, 9.9942e-01, 9.9983e-01],\n",
      "        [1.8913e-02, 3.2521e-02, 9.9594e-01, 9.9725e-01, 9.5798e-01, 2.1164e-04,\n",
      "         3.9050e-03, 9.9995e-01, 9.7825e-01, 1.2110e-02],\n",
      "        [1.3171e-03, 1.6259e-01, 9.4443e-01, 9.5989e-01, 1.9887e-03, 5.1871e-11,\n",
      "         5.5513e-01, 8.5222e-01, 6.4131e-01, 9.6615e-01],\n",
      "        [7.8623e-01, 9.3626e-01, 1.8536e-04, 9.9427e-01, 5.7061e-02, 1.9008e-06,\n",
      "         1.0169e-06, 9.9982e-01, 9.9997e-01, 4.0730e-01],\n",
      "        [9.8005e-01, 9.7654e-01, 1.3601e-02, 1.0895e-02, 9.8075e-01, 2.2371e-08,\n",
      "         8.2807e-05, 9.9939e-01, 3.6582e-01, 8.7168e-01],\n",
      "        [7.5459e-03, 8.9938e-01, 9.8445e-01, 9.9985e-01, 6.6602e-01, 1.2746e-08,\n",
      "         3.8017e-04, 9.9976e-01, 4.3447e-01, 2.6612e-01],\n",
      "        [7.3055e-03, 1.0000e+00, 9.0842e-03, 9.7204e-01, 7.6066e-07, 2.9739e-06,\n",
      "         6.5544e-01, 9.9999e-01, 9.9925e-01, 2.1465e-01]])\n"
     ]
    }
   ],
   "source": [
    "## Your solution\n",
    "def activation(x):\n",
    "    return 1/ (1+torch.exp(-x))\n",
    "inputs = images.view(images.shape[0], -1)\n",
    "#print(inputs.shape)\n",
    "w1 = torch.randn(784, 256)\n",
    "w2 = torch.randn(256, 10)\n",
    "#print(w1.shape)\n",
    "B1 = torch.randn(256)\n",
    "B2 = torch.randn(10)\n",
    "\n",
    "h = activation(torch.mm(inputs, w1) + B1)\n",
    "\n",
    "out = activation(torch.mm(h, w2) + B2)\n",
    "print(out)"
   ]
  },
  {
   "cell_type": "markdown",
   "metadata": {},
   "source": [
    "Now we have 10 outputs for our network. We want to pass in an image to our network and get out a probability distribution over the classes that tells us the likely class(es) the image belongs to. Something that looks like this:\n",
    "<img src='assets/image_distribution.png' width=500px>\n",
    "\n",
    "Here we see that the probability for each class is roughly the same. This is representing an untrained network, it hasn't seen any data yet so it just returns a uniform distribution with equal probabilities for each class.\n",
    "\n",
    "To calculate this probability distribution, we often use the [**softmax** function](https://en.wikipedia.org/wiki/Softmax_function). Mathematically this looks like\n",
    "\n",
    "$$\n",
    "\\Large \\sigma(x_i) = \\cfrac{e^{x_i}}{\\sum_k^K{e^{x_k}}}\n",
    "$$\n",
    "\n",
    "What this does is squish each input $x_i$ between 0 and 1 and normalizes the values to give you a proper probability distribution where the probabilites sum up to one.\n",
    "\n",
    "> **Exercise:** Implement a function `softmax` that performs the softmax calculation and returns probability distributions for each example in the batch. Note that you'll need to pay attention to the shapes when doing this. If you have a tensor `a` with shape `(64, 10)` and a tensor `b` with shape `(64,)`, doing `a/b` will give you an error because PyTorch will try to do the division across the columns (called broadcasting) but you'll get a size mismatch. The way to think about this is for each of the 64 examples, you only want to divide by one value, the sum in the denominator. So you need `b` to have a shape of `(64, 1)`. This way PyTorch will divide the 10 values in each row of `a` by the one value in each row of `b`. Pay attention to how you take the sum as well. You'll need to define the `dim` keyword in `torch.sum`. Setting `dim=0` takes the sum across the rows while `dim=1` takes the sum across the columns."
   ]
  },
  {
   "cell_type": "code",
   "execution_count": 64,
   "metadata": {},
   "outputs": [
    {
     "name": "stdout",
     "output_type": "stream",
     "text": [
      "torch.Size([64, 10])\n",
      "tensor([1.0000, 1.0000, 1.0000, 1.0000, 1.0000, 1.0000, 1.0000, 1.0000, 1.0000,\n",
      "        1.0000, 1.0000, 1.0000, 1.0000, 1.0000, 1.0000, 1.0000, 1.0000, 1.0000,\n",
      "        1.0000, 1.0000, 1.0000, 1.0000, 1.0000, 1.0000, 1.0000, 1.0000, 1.0000,\n",
      "        1.0000, 1.0000, 1.0000, 1.0000, 1.0000, 1.0000, 1.0000, 1.0000, 1.0000,\n",
      "        1.0000, 1.0000, 1.0000, 1.0000, 1.0000, 1.0000, 1.0000, 1.0000, 1.0000,\n",
      "        1.0000, 1.0000, 1.0000, 1.0000, 1.0000, 1.0000, 1.0000, 1.0000, 1.0000,\n",
      "        1.0000, 1.0000, 1.0000, 1.0000, 1.0000, 1.0000, 1.0000, 1.0000, 1.0000,\n",
      "        1.0000])\n"
     ]
    }
   ],
   "source": [
    "def softmax(x):\n",
    "    ## TODO: Implement the softmax function here\n",
    "    return torch.exp(x)/torch.sum(torch.exp(x), dim=1).view(-1, 1)\n",
    "    \n",
    "# Here, out should be the output of the network in the previous excercise with shape (64,10)\n",
    "probabilities = softmax(out)\n",
    "\n",
    "# Does it have the right shape? Should be (64, 10)\n",
    "print(probabilities.shape)\n",
    "# Does it sum to 1?\n",
    "print(probabilities.sum(dim=1))"
   ]
  },
  {
   "cell_type": "markdown",
   "metadata": {},
   "source": [
    "## Building networks with PyTorch\n",
    "\n",
    "PyTorch provides a module `nn` that makes building networks much simpler. Here I'll show you how to build the same one as above with 784 inputs, 256 hidden units, 10 output units and a softmax output."
   ]
  },
  {
   "cell_type": "code",
   "execution_count": 65,
   "metadata": {},
   "outputs": [],
   "source": [
    "from torch import nn"
   ]
  },
  {
   "cell_type": "code",
   "execution_count": 66,
   "metadata": {},
   "outputs": [],
   "source": [
    "class Network(nn.Module):\n",
    "    def __init__(self):\n",
    "        super().__init__()\n",
    "        \n",
    "        # Inputs to hidden layer linear transformation\n",
    "        self.hidden = nn.Linear(784, 256)\n",
    "        # Output layer, 10 units - one for each digit\n",
    "        self.output = nn.Linear(256, 10)\n",
    "        \n",
    "        # Define sigmoid activation and softmax output \n",
    "        self.sigmoid = nn.Sigmoid()\n",
    "        self.softmax = nn.Softmax(dim=1)\n",
    "        \n",
    "    def forward(self, x):\n",
    "        # Pass the input tensor through each of our operations\n",
    "        x = self.hidden(x)\n",
    "        x = self.sigmoid(x)\n",
    "        x = self.output(x)\n",
    "        x = self.softmax(x)\n",
    "        \n",
    "        return x"
   ]
  },
  {
   "cell_type": "markdown",
   "metadata": {},
   "source": [
    "Let's go through this bit by bit.\n",
    "\n",
    "```python\n",
    "class Network(nn.Module):\n",
    "```\n",
    "\n",
    "Here we're inheriting from `nn.Module`. Combined with `super().__init__()` this creates a class that tracks the architecture and provides a lot of useful methods and attributes. It is mandatory to inherit from `nn.Module` when you're creating a class for your network. The name of the class itself can be anything.\n",
    "\n",
    "```python\n",
    "self.hidden = nn.Linear(784, 256)\n",
    "```\n",
    "\n",
    "This line creates a module for a linear transformation, $x\\mathbf{W} + b$, with 784 inputs and 256 outputs and assigns it to `self.hidden`. The module automatically creates the weight and bias tensors which we'll use in the `forward` method. You can access the weight and bias tensors once the network (`net`) is created with `net.hidden.weight` and `net.hidden.bias`.\n",
    "\n",
    "```python\n",
    "self.output = nn.Linear(256, 10)\n",
    "```\n",
    "\n",
    "Similarly, this creates another linear transformation with 256 inputs and 10 outputs.\n",
    "\n",
    "```python\n",
    "self.sigmoid = nn.Sigmoid()\n",
    "self.softmax = nn.Softmax(dim=1)\n",
    "```\n",
    "\n",
    "Here I defined operations for the sigmoid activation and softmax output. Setting `dim=1` in `nn.Softmax(dim=1)` calculates softmax across the columns.\n",
    "\n",
    "```python\n",
    "def forward(self, x):\n",
    "```\n",
    "\n",
    "PyTorch networks created with `nn.Module` must have a `forward` method defined. It takes in a tensor `x` and passes it through the operations you defined in the `__init__` method.\n",
    "\n",
    "```python\n",
    "x = self.hidden(x)\n",
    "x = self.sigmoid(x)\n",
    "x = self.output(x)\n",
    "x = self.softmax(x)\n",
    "```\n",
    "\n",
    "Here the input tensor `x` is passed through each operation and reassigned to `x`. We can see that the input tensor goes through the hidden layer, then a sigmoid function, then the output layer, and finally the softmax function. It doesn't matter what you name the variables here, as long as the inputs and outputs of the operations match the network architecture you want to build. The order in which you define things in the `__init__` method doesn't matter, but you'll need to sequence the operations correctly in the `forward` method.\n",
    "\n",
    "Now we can create a `Network` object."
   ]
  },
  {
   "cell_type": "code",
   "execution_count": 67,
   "metadata": {},
   "outputs": [
    {
     "data": {
      "text/plain": [
       "Network(\n",
       "  (hidden): Linear(in_features=784, out_features=256, bias=True)\n",
       "  (output): Linear(in_features=256, out_features=10, bias=True)\n",
       "  (sigmoid): Sigmoid()\n",
       "  (softmax): Softmax(dim=1)\n",
       ")"
      ]
     },
     "execution_count": 67,
     "metadata": {},
     "output_type": "execute_result"
    }
   ],
   "source": [
    "# Create the network and look at it's text representation\n",
    "model = Network()\n",
    "model"
   ]
  },
  {
   "cell_type": "markdown",
   "metadata": {},
   "source": [
    "You can define the network somewhat more concisely and clearly using the `torch.nn.functional` module. This is the most common way you'll see networks defined as many operations are simple element-wise functions. We normally import this module as `F`, `import torch.nn.functional as F`."
   ]
  },
  {
   "cell_type": "code",
   "execution_count": 68,
   "metadata": {},
   "outputs": [],
   "source": [
    "import torch.nn.functional as F\n",
    "\n",
    "class Network(nn.Module):\n",
    "    def __init__(self):\n",
    "        super().__init__()\n",
    "        # Inputs to hidden layer linear transformation\n",
    "        self.hidden = nn.Linear(784, 256)\n",
    "        # Output layer, 10 units - one for each digit\n",
    "        self.output = nn.Linear(256, 10)\n",
    "        \n",
    "    def forward(self, x):\n",
    "        # Hidden layer with sigmoid activation\n",
    "        x = F.sigmoid(self.hidden(x))\n",
    "        # Output layer with softmax activation\n",
    "        x = F.softmax(self.output(x), dim=1)\n",
    "        \n",
    "        return x"
   ]
  },
  {
   "cell_type": "markdown",
   "metadata": {},
   "source": [
    "### Activation functions\n",
    "\n",
    "So far we've only been looking at the sigmoid activation function, but in general any function can be used as an activation function. The only requirement is that for a network to approximate a non-linear function, the activation functions must be non-linear. Here are a few more examples of common activation functions: Tanh (hyperbolic tangent), and ReLU (rectified linear unit).\n",
    "\n",
    "<img src=\"assets/activation.png\" width=700px>\n",
    "\n",
    "In practice, the ReLU function is used almost exclusively as the activation function for hidden layers."
   ]
  },
  {
   "cell_type": "markdown",
   "metadata": {},
   "source": [
    "### Your Turn to Build a Network\n",
    "\n",
    "<img src=\"assets/mlp_mnist.png\" width=600px>\n",
    "\n",
    "> **Exercise:** Create a network with 784 input units, a hidden layer with 128 units and a ReLU activation, then a hidden layer with 64 units and a ReLU activation, and finally an output layer with a softmax activation as shown above. You can use a ReLU activation with the `nn.ReLU` module or `F.relu` function.\n",
    "\n",
    "It's good practice to name your layers by their type of network, for instance 'fc' to represent a fully-connected layer. As you code your solution, use `fc1`, `fc2`, and `fc3` as your layer names."
   ]
  },
  {
   "cell_type": "code",
   "execution_count": 86,
   "metadata": {
    "scrolled": true
   },
   "outputs": [
    {
     "data": {
      "text/plain": [
       "Net(\n",
       "  (fc1): Linear(in_features=784, out_features=128, bias=True)\n",
       "  (fc2): Linear(in_features=128, out_features=64, bias=True)\n",
       "  (fc3): Linear(in_features=64, out_features=10, bias=True)\n",
       ")"
      ]
     },
     "execution_count": 86,
     "metadata": {},
     "output_type": "execute_result"
    }
   ],
   "source": [
    "## Your solution here\n",
    "import torch.nn.functional as F\n",
    "class Net(nn.Module):\n",
    "    def __init__(self):\n",
    "        super().__init__()\n",
    "        \n",
    "        self.fc1 = nn.Linear(784, 128)\n",
    "        self.fc2 = nn.Linear(128,64)\n",
    "        self.fc3 = nn.Linear(64,10)\n",
    "    def forward(self, x):\n",
    "        x = F.relu(self.fc1(x))\n",
    "        x = F.relu(self.fc2(x))\n",
    "        x = F.softmax(self.fc3(x), dim =1)\n",
    "        return x\n",
    "model = Net()\n",
    "model"
   ]
  },
  {
   "cell_type": "code",
   "execution_count": null,
   "metadata": {},
   "outputs": [],
   "source": []
  },
  {
   "cell_type": "markdown",
   "metadata": {},
   "source": [
    "### Initializing weights and biases\n",
    "\n",
    "The weights and such are automatically initialized for you, but it's possible to customize how they are initialized. The weights and biases are tensors attached to the layer you defined, you can get them with `model.fc1.weight` for instance."
   ]
  },
  {
   "cell_type": "code",
   "execution_count": 87,
   "metadata": {},
   "outputs": [
    {
     "name": "stdout",
     "output_type": "stream",
     "text": [
      "Parameter containing:\n",
      "tensor([[ 0.0344, -0.0056,  0.0146,  ..., -0.0078, -0.0348,  0.0006],\n",
      "        [-0.0240,  0.0028,  0.0298,  ...,  0.0182, -0.0194, -0.0317],\n",
      "        [-0.0060, -0.0351,  0.0198,  ..., -0.0278,  0.0033, -0.0126],\n",
      "        ...,\n",
      "        [-0.0021,  0.0292,  0.0220,  ...,  0.0001, -0.0067,  0.0025],\n",
      "        [ 0.0250,  0.0257, -0.0077,  ..., -0.0352,  0.0275, -0.0321],\n",
      "        [-0.0097, -0.0295, -0.0020,  ..., -0.0295,  0.0202,  0.0091]],\n",
      "       requires_grad=True)\n",
      "Parameter containing:\n",
      "tensor([ 0.0056, -0.0086, -0.0087,  0.0297,  0.0222,  0.0140,  0.0044,  0.0118,\n",
      "         0.0238, -0.0106,  0.0185, -0.0327, -0.0046, -0.0328, -0.0300,  0.0207,\n",
      "        -0.0056,  0.0198,  0.0040,  0.0107,  0.0189, -0.0350,  0.0064, -0.0345,\n",
      "        -0.0248,  0.0163,  0.0181, -0.0315,  0.0140,  0.0133, -0.0322, -0.0164,\n",
      "         0.0356,  0.0172, -0.0357, -0.0305,  0.0230, -0.0309, -0.0269, -0.0116,\n",
      "         0.0123,  0.0064, -0.0207,  0.0016, -0.0260,  0.0016,  0.0028, -0.0151,\n",
      "         0.0207, -0.0079,  0.0311, -0.0283,  0.0160, -0.0338,  0.0021, -0.0069,\n",
      "        -0.0319, -0.0191, -0.0231,  0.0041, -0.0137,  0.0048, -0.0330, -0.0225,\n",
      "        -0.0280,  0.0093, -0.0099, -0.0292, -0.0139, -0.0089,  0.0289,  0.0094,\n",
      "        -0.0208, -0.0116,  0.0343,  0.0286,  0.0225,  0.0242, -0.0219,  0.0178,\n",
      "        -0.0045,  0.0351,  0.0032, -0.0149,  0.0043, -0.0034, -0.0319,  0.0150,\n",
      "        -0.0031,  0.0299,  0.0328,  0.0261,  0.0111,  0.0036,  0.0352, -0.0260,\n",
      "         0.0302, -0.0187, -0.0206,  0.0145, -0.0083, -0.0052, -0.0077,  0.0328,\n",
      "        -0.0172, -0.0025,  0.0187, -0.0269,  0.0031, -0.0080,  0.0008,  0.0219,\n",
      "        -0.0129,  0.0139, -0.0214,  0.0242, -0.0279,  0.0038,  0.0290,  0.0115,\n",
      "         0.0077, -0.0288,  0.0339, -0.0176,  0.0087, -0.0013, -0.0042, -0.0319],\n",
      "       requires_grad=True)\n"
     ]
    }
   ],
   "source": [
    "print(model.fc1.weight)\n",
    "print(model.fc1.bias)"
   ]
  },
  {
   "cell_type": "markdown",
   "metadata": {},
   "source": [
    "For custom initialization, we want to modify these tensors in place. These are actually autograd *Variables*, so we need to get back the actual tensors with `model.fc1.weight.data`. Once we have the tensors, we can fill them with zeros (for biases) or random normal values."
   ]
  },
  {
   "cell_type": "code",
   "execution_count": 88,
   "metadata": {},
   "outputs": [
    {
     "data": {
      "text/plain": [
       "tensor([0., 0., 0., 0., 0., 0., 0., 0., 0., 0., 0., 0., 0., 0., 0., 0., 0., 0., 0., 0., 0., 0., 0., 0.,\n",
       "        0., 0., 0., 0., 0., 0., 0., 0., 0., 0., 0., 0., 0., 0., 0., 0., 0., 0., 0., 0., 0., 0., 0., 0.,\n",
       "        0., 0., 0., 0., 0., 0., 0., 0., 0., 0., 0., 0., 0., 0., 0., 0., 0., 0., 0., 0., 0., 0., 0., 0.,\n",
       "        0., 0., 0., 0., 0., 0., 0., 0., 0., 0., 0., 0., 0., 0., 0., 0., 0., 0., 0., 0., 0., 0., 0., 0.,\n",
       "        0., 0., 0., 0., 0., 0., 0., 0., 0., 0., 0., 0., 0., 0., 0., 0., 0., 0., 0., 0., 0., 0., 0., 0.,\n",
       "        0., 0., 0., 0., 0., 0., 0., 0.])"
      ]
     },
     "execution_count": 88,
     "metadata": {},
     "output_type": "execute_result"
    }
   ],
   "source": [
    "# Set biases to all zeros\n",
    "model.fc1.bias.data.fill_(0)"
   ]
  },
  {
   "cell_type": "code",
   "execution_count": 89,
   "metadata": {},
   "outputs": [
    {
     "data": {
      "text/plain": [
       "tensor([[ 0.0035, -0.0024, -0.0033,  ...,  0.0017, -0.0059, -0.0010],\n",
       "        [-0.0142, -0.0044, -0.0037,  ...,  0.0034,  0.0055, -0.0066],\n",
       "        [ 0.0028,  0.0012, -0.0040,  ...,  0.0023,  0.0079, -0.0031],\n",
       "        ...,\n",
       "        [ 0.0082,  0.0038,  0.0040,  ...,  0.0076, -0.0010, -0.0080],\n",
       "        [-0.0048,  0.0085,  0.0020,  ...,  0.0095,  0.0065, -0.0026],\n",
       "        [ 0.0263, -0.0016,  0.0082,  ..., -0.0109, -0.0059, -0.0023]])"
      ]
     },
     "execution_count": 89,
     "metadata": {},
     "output_type": "execute_result"
    }
   ],
   "source": [
    "# sample from random normal with standard dev = 0.01\n",
    "model.fc1.weight.data.normal_(std=0.01)"
   ]
  },
  {
   "cell_type": "markdown",
   "metadata": {},
   "source": [
    "### Forward pass\n",
    "\n",
    "Now that we have a network, let's see what happens when we pass in an image."
   ]
  },
  {
   "cell_type": "code",
   "execution_count": 90,
   "metadata": {},
   "outputs": [
    {
     "data": {
      "image/png": "[encoded data removed]",
      "text/plain": [
       "<Figure size 600x900 with 2 Axes>"
      ]
     },
     "metadata": {
      "image/png": {
       "height": 327,
       "width": 589
      }
     },
     "output_type": "display_data"
    }
   ],
   "source": [
    "# Grab some data \n",
    "dataiter = next(iter(trainloader))\n",
    "images, labels = dataiter\n",
    "\n",
    "# Resize images into a 1D vector, new shape is (batch size, color channels, image pixels) \n",
    "images.resize_(64, 1, 784)\n",
    "# or images.resize_(images.shape[0], 1, 784) to automatically get batch size\n",
    "\n",
    "# Forward pass through the network\n",
    "img_idx = 0\n",
    "ps = model.forward(images[img_idx,:])\n",
    "\n",
    "img = images[img_idx]\n",
    "helper.view_classify(img.view(1, 28, 28), ps)"
   ]
  },
  {
   "cell_type": "markdown",
   "metadata": {},
   "source": [
    "As you can see above, our network has basically no idea what this digit is. It's because we haven't trained it yet, all the weights are random!\n",
    "\n",
    "### Using `nn.Sequential`\n",
    "\n",
    "PyTorch provides a convenient way to build networks like this where a tensor is passed sequentially through operations, `nn.Sequential` ([documentation](https://pytorch.org/docs/master/nn.html#torch.nn.Sequential)). Using this to build the equivalent network:"
   ]
  },
  {
   "cell_type": "code",
   "execution_count": 96,
   "metadata": {},
   "outputs": [
    {
     "name": "stdout",
     "output_type": "stream",
     "text": [
      "Sequential(\n",
      "  (0): Linear(in_features=784, out_features=128, bias=True)\n",
      "  (1): ReLU()\n",
      "  (2): Linear(in_features=128, out_features=64, bias=True)\n",
      "  (3): ReLU()\n",
      "  (4): Linear(in_features=64, out_features=10, bias=True)\n",
      "  (5): Softmax(dim=1)\n",
      ")\n"
     ]
    },
    {
     "data": {
      "image/png": "[encoded data removed]",
      "text/plain": [
       "<Figure size 600x900 with 2 Axes>"
      ]
     },
     "metadata": {
      "image/png": {
       "height": 327,
       "width": 589
      }
     },
     "output_type": "display_data"
    }
   ],
   "source": [
    "# Hyperparameters for our network\n",
    "input_size = 784\n",
    "hidden_sizes = [128, 64]\n",
    "output_size = 10\n",
    "\n",
    "# Build a feed-forward network\n",
    "model = nn.Sequential(nn.Linear(input_size, hidden_sizes[0]),\n",
    "                      nn.ReLU(),\n",
    "                      nn.Linear(hidden_sizes[0], hidden_sizes[1]),\n",
    "                      nn.ReLU(),\n",
    "                      nn.Linear(hidden_sizes[1], output_size),\n",
    "                      nn.Softmax(dim=1))\n",
    "print(model)\n",
    "\n",
    "# Forward pass through the network and display output\n",
    "images, labels = next(iter(trainloader))\n",
    "images.resize_(images.shape[0], 1, 784)\n",
    "ps = model.forward(images[0,:])\n",
    "helper.view_classify(images[0].view(1, 28, 28), ps)"
   ]
  },
  {
   "cell_type": "markdown",
   "metadata": {},
   "source": [
    "Here our model is the same as before: 784 input units, a hidden layer with 128 units, ReLU activation, 64 unit hidden layer, another ReLU, then the output layer with 10 units, and the softmax output.\n",
    "\n",
    "The operations are available by passing in the appropriate index. For example, if you want to get first Linear operation and look at the weights, you'd use `model[0]`."
   ]
  },
  {
   "cell_type": "code",
   "execution_count": 98,
   "metadata": {},
   "outputs": [
    {
     "name": "stdout",
     "output_type": "stream",
     "text": [
      "Linear(in_features=128, out_features=64, bias=True)\n"
     ]
    },
    {
     "data": {
      "text/plain": [
       "Parameter containing:\n",
       "tensor([[-0.0714, -0.0209, -0.0002,  ..., -0.0068, -0.0558,  0.0562],\n",
       "        [-0.0247, -0.0854,  0.0345,  ..., -0.0287,  0.0068, -0.0071],\n",
       "        [-0.0193, -0.0621,  0.0101,  ...,  0.0496,  0.0066, -0.0417],\n",
       "        ...,\n",
       "        [-0.0203, -0.0247,  0.0158,  ...,  0.0648, -0.0678, -0.0182],\n",
       "        [-0.0624,  0.0431,  0.0491,  ..., -0.0722, -0.0430,  0.0843],\n",
       "        [ 0.0782,  0.0285,  0.0422,  ..., -0.0266,  0.0580,  0.0715]],\n",
       "       requires_grad=True)"
      ]
     },
     "execution_count": 98,
     "metadata": {},
     "output_type": "execute_result"
    }
   ],
   "source": [
    "print(model[2])\n",
    "model[2].weight"
   ]
  },
  {
   "cell_type": "markdown",
   "metadata": {},
   "source": [
    "You can also pass in an `OrderedDict` to name the individual layers and operations, instead of using incremental integers. Note that dictionary keys must be unique, so _each operation must have a different name_."
   ]
  },
  {
   "cell_type": "code",
   "execution_count": 100,
   "metadata": {},
   "outputs": [
    {
     "data": {
      "text/plain": [
       "Sequential(\n",
       "  (fc1): Linear(in_features=784, out_features=128, bias=True)\n",
       "  (relu1): ReLU()\n",
       "  (fc2): Linear(in_features=128, out_features=64, bias=True)\n",
       "  (relu2): ReLU()\n",
       "  (output): Linear(in_features=64, out_features=10, bias=True)\n",
       "  (softmax): Softmax(dim=1)\n",
       ")"
      ]
     },
     "execution_count": 100,
     "metadata": {},
     "output_type": "execute_result"
    }
   ],
   "source": [
    "from collections import OrderedDict\n",
    "model = nn.Sequential(OrderedDict([\n",
    "                      ('fc1', nn.Linear(input_size, hidden_sizes[0])),\n",
    "                      ('relu1', nn.ReLU()),\n",
    "                      ('fc2', nn.Linear(hidden_sizes[0], hidden_sizes[1])),\n",
    "                      ('relu2', nn.ReLU()),\n",
    "                      ('output', nn.Linear(hidden_sizes[1], output_size)),\n",
    "                      ('softmax', nn.Softmax(dim=1))]))\n",
    "model"
   ]
  },
  {
   "cell_type": "markdown",
   "metadata": {},
   "source": [
    "Now you can access layers either by integer or the name"
   ]
  },
  {
   "cell_type": "code",
   "execution_count": 103,
   "metadata": {},
   "outputs": [
    {
     "name": "stdout",
     "output_type": "stream",
     "text": [
      "Linear(in_features=784, out_features=128, bias=True)\n",
      "ReLU()\n"
     ]
    }
   ],
   "source": [
    "print(model[0])\n",
    "print(model.relu1)"
   ]
  },
  {
   "cell_type": "markdown",
   "metadata": {},
   "source": [
    "In the next notebook, we'll see how we can train a neural network to accuractly predict the numbers appearing in the MNIST images."
   ]
  }
 ],
 "metadata": {
  "kernelspec": {
   "display_name": "Python 3 (ipykernel)",
   "language": "python",
   "name": "python3"
  },
  "language_info": {
   "codemirror_mode": {
    "name": "ipython",
    "version": 3
   },
   "file_extension": ".py",
   "mimetype": "text/x-python",
   "name": "python",
   "nbconvert_exporter": "python",
   "pygments_lexer": "ipython3",
   "version": "3.9.13"
  }
 },
 "nbformat": 4,
 "nbformat_minor": 2
}
